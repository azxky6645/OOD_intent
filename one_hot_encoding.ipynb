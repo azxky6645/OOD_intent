{
 "cells": [
  {
   "cell_type": "code",
   "execution_count": null,
   "metadata": {
    "collapsed": true,
    "pycharm": {
     "name": "#%%\n"
    }
   },
   "outputs": [],
   "source": []
  },
  {
   "cell_type": "code",
   "execution_count": 22,
   "outputs": [],
   "source": [
    "import torch\n",
    "\n",
    "# 1. 모든 클래스를 수집합니다.\n",
    "classes_task1 = ['cat', 'dog', 'bird']\n",
    "classes_task2 = ['happy', 'sad', 'neutral']\n",
    "\n",
    "# 2. 각 클래스에 대해 유니크한 인덱스를 할당합니다.\n",
    "class_to_idx_task1 = {class_name: idx for idx, class_name in enumerate(classes_task1)}\n",
    "class_to_idx_task2 = {class_name: idx for idx, class_name in enumerate(classes_task2)}\n",
    "\n",
    "# 3. 모든 클래스의 개수에 맞게 길이가 0인 배열을 생성합니다.\n",
    "num_classes_task1 = len(classes_task1)\n",
    "num_classes_task2 = len(classes_task2)\n",
    "num_total_classes = num_classes_task1 + num_classes_task2\n",
    "labels_one_hot = torch.zeros(num_total_classes, num_total_classes, dtype=torch.float32)"
   ],
   "metadata": {
    "collapsed": false,
    "pycharm": {
     "name": "#%%\n"
    }
   }
  },
  {
   "cell_type": "code",
   "execution_count": 23,
   "outputs": [
    {
     "data": {
      "text/plain": "tensor([[0., 0., 0., 0., 0., 0.],\n        [0., 0., 0., 0., 0., 0.],\n        [0., 0., 0., 0., 0., 0.],\n        [0., 0., 0., 0., 0., 0.],\n        [0., 0., 0., 0., 0., 0.],\n        [0., 0., 0., 0., 0., 0.]])"
     },
     "execution_count": 23,
     "metadata": {},
     "output_type": "execute_result"
    }
   ],
   "source": [
    "labels_one_hot"
   ],
   "metadata": {
    "collapsed": false,
    "pycharm": {
     "name": "#%%\n"
    }
   }
  },
  {
   "cell_type": "code",
   "execution_count": 24,
   "outputs": [
    {
     "name": "stdout",
     "output_type": "stream",
     "text": [
      "tensor([[0., 0., 0., 0., 0., 0.],\n",
      "        [0., 1., 0., 0., 0., 0.],\n",
      "        [0., 0., 0., 0., 0., 0.],\n",
      "        [1., 0., 0., 0., 0., 0.],\n",
      "        [0., 0., 0., 0., 0., 0.],\n",
      "        [0., 0., 0., 0., 0., 0.]])\n"
     ]
    }
   ],
   "source": [
    "\n",
    "# 4. 데이터셋에서 각 샘플의 클래스에 해당하는 인덱스에 1을 할당합니다.\n",
    "sample_class_task1 = 'dog'\n",
    "sample_class_task2 = 'happy'\n",
    "labels_one_hot[class_to_idx_task1[sample_class_task1], class_to_idx_task1[sample_class_task1]] = 1.0\n",
    "labels_one_hot[class_to_idx_task2[sample_class_task2] + num_classes_task1, class_to_idx_task2[sample_class_task2]] = 1.0\n",
    "\n",
    "# 텐서를 출력합니다.\n",
    "print(labels_one_hot)"
   ],
   "metadata": {
    "collapsed": false,
    "pycharm": {
     "name": "#%%\n"
    }
   }
  },
  {
   "cell_type": "code",
   "execution_count": 18,
   "outputs": [
    {
     "data": {
      "text/plain": "torch.Size([6, 6])"
     },
     "execution_count": 18,
     "metadata": {},
     "output_type": "execute_result"
    }
   ],
   "source": [
    "labels_one_hot.shape"
   ],
   "metadata": {
    "collapsed": false,
    "pycharm": {
     "name": "#%%\n"
    }
   }
  },
  {
   "cell_type": "code",
   "execution_count": 54,
   "outputs": [],
   "source": [
    "import pandas as pd"
   ],
   "metadata": {
    "collapsed": false,
    "pycharm": {
     "name": "#%%\n"
    }
   }
  },
  {
   "cell_type": "code",
   "execution_count": 55,
   "outputs": [],
   "source": [
    "train=pd.read_csv('data/BANKING77/train/label',header=None)\n",
    "test=pd.read_csv('data/BANKING77/test/label',header=None)\n",
    "valid=pd.read_csv('data/BANKING77/valid/label',header=None)\n"
   ],
   "metadata": {
    "collapsed": false,
    "pycharm": {
     "name": "#%%\n"
    }
   }
  },
  {
   "cell_type": "code",
   "execution_count": 62,
   "outputs": [
    {
     "data": {
      "text/plain": "card_arrival                      40\ntransaction_charged_twice         40\nreceiving_money                   40\ntransfer_fee_charged              40\nbeneficiary_not_allowed           40\n                                  ..\ntop_up_reverted                   40\ncard_acceptance                   40\ngetting_virtual_card              40\nsupported_cards_and_currencies    40\ncountry_support                   40\nName: 0, Length: 77, dtype: int64"
     },
     "execution_count": 62,
     "metadata": {},
     "output_type": "execute_result"
    }
   ],
   "source": [
    "test[0].value_counts()"
   ],
   "metadata": {
    "collapsed": false,
    "pycharm": {
     "name": "#%%\n"
    }
   }
  },
  {
   "cell_type": "code",
   "execution_count": 53,
   "outputs": [],
   "source": [
    "pd.DataFrame(train[0].unique()).to_csv('data/CLINC150/intent_label.txt', header=None, index=False)"
   ],
   "metadata": {
    "collapsed": false,
    "pycharm": {
     "name": "#%%\n"
    }
   }
  },
  {
   "cell_type": "code",
   "execution_count": 22,
   "outputs": [],
   "source": [
    "pd.DataFrame(train[0].unique()).to_csv('data/BANKING77/intent_label.txt', header=None, index=False)"
   ],
   "metadata": {
    "collapsed": false,
    "pycharm": {
     "name": "#%%\n"
    }
   }
  },
  {
   "cell_type": "code",
   "execution_count": 20,
   "outputs": [
    {
     "data": {
      "text/plain": "                                   0\n0                       card_arrival\n1                       card_linking\n2                      exchange_rate\n3   card_payment_wrong_exchange_rate\n4          extra_charge_on_statement\n..                               ...\n72            cash_withdrawal_charge\n73              card_about_to_expire\n74           apple_pay_or_google_pay\n75                verify_my_identity\n76                   country_support\n\n[77 rows x 1 columns]",
      "text/html": "<div>\n<style scoped>\n    .dataframe tbody tr th:only-of-type {\n        vertical-align: middle;\n    }\n\n    .dataframe tbody tr th {\n        vertical-align: top;\n    }\n\n    .dataframe thead th {\n        text-align: right;\n    }\n</style>\n<table border=\"1\" class=\"dataframe\">\n  <thead>\n    <tr style=\"text-align: right;\">\n      <th></th>\n      <th>0</th>\n    </tr>\n  </thead>\n  <tbody>\n    <tr>\n      <th>0</th>\n      <td>card_arrival</td>\n    </tr>\n    <tr>\n      <th>1</th>\n      <td>card_linking</td>\n    </tr>\n    <tr>\n      <th>2</th>\n      <td>exchange_rate</td>\n    </tr>\n    <tr>\n      <th>3</th>\n      <td>card_payment_wrong_exchange_rate</td>\n    </tr>\n    <tr>\n      <th>4</th>\n      <td>extra_charge_on_statement</td>\n    </tr>\n    <tr>\n      <th>...</th>\n      <td>...</td>\n    </tr>\n    <tr>\n      <th>72</th>\n      <td>cash_withdrawal_charge</td>\n    </tr>\n    <tr>\n      <th>73</th>\n      <td>card_about_to_expire</td>\n    </tr>\n    <tr>\n      <th>74</th>\n      <td>apple_pay_or_google_pay</td>\n    </tr>\n    <tr>\n      <th>75</th>\n      <td>verify_my_identity</td>\n    </tr>\n    <tr>\n      <th>76</th>\n      <td>country_support</td>\n    </tr>\n  </tbody>\n</table>\n<p>77 rows × 1 columns</p>\n</div>"
     },
     "execution_count": 20,
     "metadata": {},
     "output_type": "execute_result"
    }
   ],
   "source": [
    "pd.DataFrame(train[0].unique())"
   ],
   "metadata": {
    "collapsed": false,
    "pycharm": {
     "name": "#%%\n"
    }
   }
  },
  {
   "cell_type": "code",
   "execution_count": 1,
   "outputs": [],
   "source": [
    "import pandas as pd"
   ],
   "metadata": {
    "collapsed": false,
    "pycharm": {
     "name": "#%%\n"
    }
   }
  },
  {
   "cell_type": "code",
   "execution_count": 14,
   "outputs": [],
   "source": [
    "x=pd.read_csv('embedding_tsv/2023-07-04 19-14-07_test_x_embedding.tsv', sep='\\t', header=None)"
   ],
   "metadata": {
    "collapsed": false,
    "pycharm": {
     "name": "#%%\n"
    }
   }
  },
  {
   "cell_type": "code",
   "execution_count": 37,
   "outputs": [],
   "source": [
    "y=pd.read_csv('embedding_tsv/2023-07-04 19-14-07_test_y_true.tsv', sep='\\t', header=None)"
   ],
   "metadata": {
    "collapsed": false,
    "pycharm": {
     "name": "#%%\n"
    }
   }
  },
  {
   "cell_type": "code",
   "execution_count": 45,
   "outputs": [],
   "source": [
    "y.rename(columns={0: 'class'}, inplace=True)"
   ],
   "metadata": {
    "collapsed": false,
    "pycharm": {
     "name": "#%%\n"
    }
   }
  },
  {
   "cell_type": "code",
   "execution_count": 46,
   "outputs": [],
   "source": [
    "df = pd.concat([x,y],axis=1)"
   ],
   "metadata": {
    "collapsed": false,
    "pycharm": {
     "name": "#%%\n"
    }
   }
  },
  {
   "cell_type": "code",
   "execution_count": 48,
   "outputs": [
    {
     "data": {
      "text/plain": "RangeIndex(start=0, stop=6000, step=1)"
     },
     "execution_count": 48,
     "metadata": {},
     "output_type": "execute_result"
    }
   ],
   "source": [
    "df.index"
   ],
   "metadata": {
    "collapsed": false,
    "pycharm": {
     "name": "#%%\n"
    }
   }
  },
  {
   "cell_type": "code",
   "execution_count": 13,
   "outputs": [],
   "source": [
    "y[:1170].to_csv('y.tsv', sep='\\t', index=False, header=False)\n",
    "x[:1170].to_csv('x.tsv', sep='\\t', index=False, header=False)"
   ],
   "metadata": {
    "collapsed": false,
    "pycharm": {
     "name": "#%%\n"
    }
   }
  },
  {
   "cell_type": "code",
   "execution_count": 56,
   "outputs": [
    {
     "data": {
      "text/plain": "5    4500\n1     300\n0     300\n4     300\n3     300\n2     300\nName: class, dtype: int64"
     },
     "execution_count": 56,
     "metadata": {},
     "output_type": "execute_result"
    }
   ],
   "source": [
    "df['class'].value_counts()"
   ],
   "metadata": {
    "collapsed": false,
    "pycharm": {
     "name": "#%%\n"
    }
   }
  },
  {
   "cell_type": "code",
   "execution_count": 68,
   "outputs": [
    {
     "name": "stdout",
     "output_type": "stream",
     "text": [
      "             0         1         2         3         4         5         6  \\\n",
      "3082 -0.044636 -1.082606 -0.713747 -0.708139  0.677225  0.697760  0.783651   \n",
      "4876  0.411606 -0.606996 -0.666574 -0.597054  1.024366  0.152457  0.830481   \n",
      "3925  0.285980 -0.715541 -0.887142 -0.732440  0.781477  0.162646  0.827971   \n",
      "3947  0.414046 -0.840080 -0.225879 -0.904609 -0.154742  0.251993  0.577078   \n",
      "625   0.198426 -0.926377 -0.357687 -0.626904 -0.145586  0.311027  0.480267   \n",
      "...        ...       ...       ...       ...       ...       ...       ...   \n",
      "919   0.074061 -0.266271 -0.612987 -0.846646  0.717797  0.463965  0.863544   \n",
      "5559  0.023187 -0.252290 -0.612416 -0.781971  0.495777  0.533787  0.784396   \n",
      "5862  0.059697 -0.329798 -0.571620 -0.846805  0.592385  0.463294  0.856121   \n",
      "3013  0.083411 -0.253774 -0.595731 -0.822157  0.636388  0.458292  0.812426   \n",
      "4740  0.092644 -0.236576 -0.639313 -0.794091  0.690784  0.493384  0.785871   \n",
      "\n",
      "             7         8         9  ...       759       760       761  \\\n",
      "3082  0.714204 -0.461006 -0.662954  ...  0.565788 -0.859407 -0.549480   \n",
      "4876  0.493976 -0.259530 -0.744361  ... -0.066415 -0.821549 -0.341376   \n",
      "3925  0.572361 -0.676608 -0.463635  ...  0.844592 -0.916248 -0.465299   \n",
      "3947  0.521267 -0.214827 -0.699927  ...  0.395088 -0.744443 -0.938213   \n",
      "625   0.406486 -0.070197 -0.703249  ...  0.455340 -0.822013 -0.611837   \n",
      "...        ...       ...       ...  ...       ...       ...       ...   \n",
      "919   0.235495 -0.577989 -0.152474  ...  0.846038 -0.706291 -0.680658   \n",
      "5559  0.190506 -0.477606 -0.084003  ...  0.796579 -0.680796 -0.559192   \n",
      "5862  0.286527 -0.612810 -0.066198  ...  0.828739 -0.702635 -0.660524   \n",
      "3013  0.243049 -0.562158 -0.132299  ...  0.807013 -0.732783 -0.654628   \n",
      "4740  0.262144 -0.564157 -0.167981  ...  0.805197 -0.792191 -0.687660   \n",
      "\n",
      "           762       763       764       765       766       767  class  \n",
      "3082  0.164742  0.155918  0.372189  0.044169 -1.127457  0.566286      5  \n",
      "4876  0.121179  0.254840  0.477468 -0.521119 -1.034081  0.509270      5  \n",
      "3925 -0.022012 -0.123994  0.035720 -0.846726 -1.278101  0.853847      5  \n",
      "3947  0.537269 -0.150743 -0.518214  0.196678 -0.924673  0.541637      5  \n",
      "625   0.585149 -0.264496 -0.094954 -0.154481 -0.857145  0.665529      5  \n",
      "...        ...       ...       ...       ...       ...       ...    ...  \n",
      "919   0.030242  0.029652 -0.067916 -0.661427 -1.028603  0.151034      2  \n",
      "5559  0.093391 -0.043820  0.029219 -0.672600 -1.008633  0.129043      2  \n",
      "5862  0.086249 -0.028089  0.026545 -0.584711 -0.985153  0.125013      2  \n",
      "3013  0.082896 -0.002192 -0.131098 -0.623361 -1.017691  0.068592      2  \n",
      "4740  0.029635  0.069068 -0.205289 -0.633391 -0.952394  0.169118      2  \n",
      "\n",
      "[180 rows x 769 columns]\n"
     ]
    }
   ],
   "source": [
    "class_counts = df['class'].value_counts()\n",
    "samples = []\n",
    "for class_label in class_counts.index:\n",
    "    samples.append(df[df['class'] == class_label].sample(n=30, random_state=42))\n",
    "\n",
    "# 결과 확인\n",
    "balanced_df = pd.concat(samples)\n",
    "print(balanced_df)"
   ],
   "metadata": {
    "collapsed": false,
    "pycharm": {
     "name": "#%%\n"
    }
   }
  },
  {
   "cell_type": "code",
   "execution_count": 71,
   "outputs": [],
   "source": [
    "balanced_df_class = balanced_df.drop('class', axis=1)"
   ],
   "metadata": {
    "collapsed": false,
    "pycharm": {
     "name": "#%%\n"
    }
   }
  },
  {
   "cell_type": "code",
   "execution_count": 75,
   "outputs": [],
   "source": [
    "balanced_df_class.to_csv('x', index=False, header=False, sep='\\t')"
   ],
   "metadata": {
    "collapsed": false,
    "pycharm": {
     "name": "#%%\n"
    }
   }
  },
  {
   "cell_type": "code",
   "execution_count": 74,
   "outputs": [],
   "source": [
    "balanced_df['class'].to_csv('y', index=False, header=False, sep='\\t')"
   ],
   "metadata": {
    "collapsed": false,
    "pycharm": {
     "name": "#%%\n"
    }
   }
  }
 ],
 "metadata": {
  "kernelspec": {
   "display_name": "Python 3",
   "language": "python",
   "name": "python3"
  },
  "language_info": {
   "codemirror_mode": {
    "name": "ipython",
    "version": 2
   },
   "file_extension": ".py",
   "mimetype": "text/x-python",
   "name": "python",
   "nbconvert_exporter": "python",
   "pygments_lexer": "ipython2",
   "version": "2.7.6"
  }
 },
 "nbformat": 4,
 "nbformat_minor": 0
}